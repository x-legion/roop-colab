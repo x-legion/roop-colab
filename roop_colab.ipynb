{
  "nbformat": 4,
  "nbformat_minor": 0,
  "metadata": {
    "colab": {
      "provenance": [],
      "gpuType": "T4"
    },
    "kernelspec": {
      "name": "python3",
      "display_name": "Python 3"
    },
    "language_info": {
      "name": "python"
    },
    "accelerator": "GPU"
  },
  "cells": [
    {
      "cell_type": "code",
      "source": [
        "#@title Install Dependencies\n",
        "print(\"Step 1: Cloning the roop repository\")\n",
        "!git clone https://github.com/s0md3v/roop.git\n",
        "print(\"Step 2: Installing the requirements\")\n",
        "!pip install -r requirements.txt\n",
        "%cd roop\n",
        "print(\"Step 3: Downloading the inswapper_128.onnx file\")\n",
        "!wget https://huggingface.co/camenduru/roop/resolve/main/inswapper_128.onnx\n",
        "\n",
        "print(\"Install Dependencies Successfull\")\n",
        "exit()"
      ],
      "metadata": {
        "cellView": "form",
        "id": "n5D3NAzWEZQ_"
      },
      "execution_count": null,
      "outputs": []
    },
    {
      "cell_type": "code",
      "source": [
        "SOURCE_IMG = \"\" #@param{type:\"string\"}\n",
        "TARGET_PATH = \"\" #@param{type:\"string\"}\n",
        "OUTPUT_FILE = \"/content/output/output.mp4\" #@param{type:\"string\"}\n",
        "\n",
        "!python run.py -f {SOURCE_IMG} -t {TARGET_PATH} -o {OUTPUT_FILE} --gpu --keep-fps --keep-frames"
      ],
      "metadata": {
        "cellView": "form",
        "id": "swlD1N5Exw9b"
      },
      "execution_count": null,
      "outputs": []
    }
  ]
}